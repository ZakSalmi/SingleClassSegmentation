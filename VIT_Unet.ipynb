{
  "cells": [
    {
      "cell_type": "code",
      "execution_count": null,
      "metadata": {
        "id": "hKog40M9nJSa"
      },
      "outputs": [],
      "source": [
        "import torch\n",
        "import os\n",
        "import torch.nn as nn\n",
        "import torch.optim as optim\n",
        "from torch.utils.data import DataLoader, Dataset\n",
        "from torchvision import transforms\n",
        "from PIL import Image\n",
        "import cv2\n",
        "import json\n",
        "import torch.nn.functional as F\n",
        "import math\n",
        "import pprint\n",
        "import requests\n",
        "import numpy as np\n",
        "from PIL import Image\n",
        "from tqdm import tqdm\n",
        "from torch.optim.lr_scheduler import ReduceLROnPlateau\n",
        "from collections import defaultdict\n",
        "import matplotlib.pyplot as plt\n",
        "from pycocotools.coco import COCO\n",
        "from pycocotools import mask as maskUtils"
      ]
    },
    {
      "cell_type": "markdown",
      "source": [
        "# **1 - Coco Dataset**"
      ],
      "metadata": {
        "id": "WNoIBmSFiN7x"
      }
    },
    {
      "cell_type": "code",
      "execution_count": null,
      "metadata": {
        "colab": {
          "base_uri": "https://localhost:8080/"
        },
        "id": "WL3wuZlbnqXs",
        "outputId": "fb8fe72b-b7bb-4b06-c0bf-b077a0787656"
      },
      "outputs": [
        {
          "output_type": "stream",
          "name": "stdout",
          "text": [
            "--2024-01-06 16:08:11--  http://images.cocodataset.org/annotations/annotations_trainval2017.zip\n",
            "Resolving images.cocodataset.org (images.cocodataset.org)... 52.217.231.233, 52.217.227.121, 52.216.88.171, ...\n",
            "Connecting to images.cocodataset.org (images.cocodataset.org)|52.217.231.233|:80... connected.\n",
            "HTTP request sent, awaiting response... 200 OK\n",
            "Length: 252907541 (241M) [application/zip]\n",
            "Saving to: ‘annotations_trainval2017.zip’\n",
            "\n",
            "annotations_trainva 100%[===================>] 241.19M  79.1MB/s    in 3.0s    \n",
            "\n",
            "2024-01-06 16:08:14 (79.1 MB/s) - ‘annotations_trainval2017.zip’ saved [252907541/252907541]\n",
            "\n",
            "Archive:  /content/annotations_trainval2017.zip\n",
            "  inflating: annotations/instances_train2017.json  \n",
            "  inflating: annotations/instances_val2017.json  \n",
            "  inflating: annotations/captions_train2017.json  \n",
            "  inflating: annotations/captions_val2017.json  \n",
            "  inflating: annotations/person_keypoints_train2017.json  \n",
            "  inflating: annotations/person_keypoints_val2017.json  \n"
          ]
        }
      ],
      "source": [
        "!wget http://images.cocodataset.org/annotations/annotations_trainval2017.zip\n",
        "!unzip /content/annotations_trainval2017.zip"
      ]
    },
    {
      "cell_type": "code",
      "execution_count": null,
      "metadata": {
        "id": "pv6ZzCpBozaD"
      },
      "outputs": [],
      "source": [
        "train_ann = '/content/annotations/instances_train2017.json'\n",
        "val_ann = '/content/annotations/instances_val2017.json'\n",
        "\n",
        "!mkdir train\n",
        "!mkdir validation\n",
        "\n",
        "train_annotation = '/content/train/annotations/train2017.json'\n",
        "val_annotation = '/content/validation/annotations/val2017.json'\n",
        "\n",
        "train_images = '/content/train/images/'\n",
        "val_images = '/content/validation/images/'\n",
        "\n",
        "train_mask = '/content/train/masks/'\n",
        "val_mask = '/content/validation/masks/'"
      ]
    },
    {
      "cell_type": "code",
      "execution_count": null,
      "metadata": {
        "id": "SwFyvfzYo0dT"
      },
      "outputs": [],
      "source": [
        "def getCocoDataset(annotation_path, image_path, object_class, limit=None):\n",
        "  coco = COCO(annotation_path)\n",
        "\n",
        "  catIds = coco.getCatIds(catNms=[object_class])\n",
        "  imgIds = coco.getImgIds(catIds=catIds)\n",
        "  images = coco.loadImgs(imgIds)\n",
        "\n",
        "  os.makedirs(image_path, exist_ok=True)\n",
        "\n",
        "  for i, im in enumerate(images):\n",
        "    if i == limit:\n",
        "      break\n",
        "    img_data = requests.get(im['coco_url']).content\n",
        "    with open(image_path + im['file_name'], 'wb') as handler:\n",
        "        handler.write(img_data)\n",
        "  return catIds"
      ]
    },
    {
      "cell_type": "code",
      "execution_count": null,
      "metadata": {
        "colab": {
          "base_uri": "https://localhost:8080/"
        },
        "id": "XaRpT7cqo1qr",
        "outputId": "ca5599f3-b5f7-4a70-b895-ea5fdce164c7"
      },
      "outputs": [
        {
          "output_type": "stream",
          "name": "stdout",
          "text": [
            "loading annotations into memory...\n",
            "Done (t=20.95s)\n",
            "creating index...\n",
            "index created!\n",
            "loading annotations into memory...\n",
            "Done (t=0.40s)\n",
            "creating index...\n",
            "index created!\n"
          ]
        },
        {
          "output_type": "execute_result",
          "data": {
            "text/plain": [
              "[19]"
            ]
          },
          "metadata": {},
          "execution_count": 5
        }
      ],
      "source": [
        "class_id = getCocoDataset(train_ann, train_images, 'horse', 1000)[0]\n",
        "getCocoDataset(val_ann, val_images, 'horse', 200)"
      ]
    },
    {
      "cell_type": "code",
      "execution_count": null,
      "metadata": {
        "id": "nnSvs13eo2v7"
      },
      "outputs": [],
      "source": [
        "def filterAnnotation(annotation_path, image_path, output_path):\n",
        "  coco = COCO(annotation_path)\n",
        "\n",
        "  images = os.listdir(image_path)\n",
        "\n",
        "  os.makedirs('/'.join(output_path.split('/')[:-1]), exist_ok=True)\n",
        "\n",
        "  filtered_annotations = {\n",
        "    \"images\": [],\n",
        "    \"annotations\": [],\n",
        "    \"categories\": coco.dataset[\"categories\"]\n",
        "  }\n",
        "\n",
        "  # Iterate through images and annotations\n",
        "  for image_id in coco.getImgIds():\n",
        "      image_info = coco.loadImgs([image_id])[0]\n",
        "      if image_info['file_name'] in images:\n",
        "          filtered_annotations[\"images\"].append(image_info)\n",
        "          annotations = coco.imgToAnns[image_id]\n",
        "          filtered_annotations[\"annotations\"].extend(annotations)\n",
        "\n",
        "  # Save the filtered annotations to a new JSON file\n",
        "  with open(output_path, 'w') as f:\n",
        "      json.dump(filtered_annotations, f)\n"
      ]
    },
    {
      "cell_type": "code",
      "execution_count": null,
      "metadata": {
        "colab": {
          "base_uri": "https://localhost:8080/"
        },
        "id": "Ve7elDyNpBGS",
        "outputId": "d55632d5-4900-4f66-b336-ab5f11927790"
      },
      "outputs": [
        {
          "output_type": "stream",
          "name": "stdout",
          "text": [
            "loading annotations into memory...\n",
            "Done (t=15.87s)\n",
            "creating index...\n",
            "index created!\n",
            "loading annotations into memory...\n",
            "Done (t=0.74s)\n",
            "creating index...\n",
            "index created!\n"
          ]
        }
      ],
      "source": [
        "filterAnnotation(train_ann, train_images, train_annotation)\n",
        "filterAnnotation(val_ann, val_images, val_annotation)"
      ]
    },
    {
      "cell_type": "code",
      "execution_count": null,
      "metadata": {
        "id": "x3m1dEV-pCk6"
      },
      "outputs": [],
      "source": [
        "def generate_segmentation_masks(annotation_path, class_id, output_dir):\n",
        "\n",
        "    coco = COCO(annotation_path)\n",
        "\n",
        "    os.makedirs(output_dir, exist_ok=True)\n",
        "\n",
        "    img_ids = coco.getImgIds()\n",
        "\n",
        "    min_height, min_width = math.inf, math.inf\n",
        "\n",
        "    for img_id in img_ids:\n",
        "        img_info = coco.loadImgs([img_id])[0]\n",
        "\n",
        "        ann_ids = coco.getAnnIds(imgIds=img_id)\n",
        "        annotations = coco.loadAnns(ann_ids)\n",
        "\n",
        "        # Initialize a blank mask\n",
        "        height = img_info['height']\n",
        "        width = img_info['width']\n",
        "        mask = np.zeros((height, width))\n",
        "\n",
        "\n",
        "        # Generate the mask by drawing polygons for each annotation\n",
        "        for annotation in annotations:\n",
        "\n",
        "            if annotation['category_id'] != class_id:\n",
        "              continue\n",
        "            rle = maskUtils.frPyObjects(annotation['segmentation'],\n",
        "                                        img_info['height'],\n",
        "                                        img_info['width'])\n",
        "            decoded_mask = maskUtils.decode(rle)\n",
        "            if len(decoded_mask.shape) > 2:\n",
        "              decoded_mask = decoded_mask[:, :, 0]\n",
        "            mask += decoded_mask\n",
        "\n",
        "        # Save the mask as an image\n",
        "        mask_filename = os.path.join(output_dir,\n",
        "                                     img_info['file_name'].replace('jpg', 'png'))\n",
        "        cv2.imwrite(mask_filename, mask.astype(np.uint8) * 255)\n"
      ]
    },
    {
      "cell_type": "code",
      "execution_count": null,
      "metadata": {
        "colab": {
          "base_uri": "https://localhost:8080/"
        },
        "id": "pmFh6PERpD2K",
        "outputId": "936ace36-d9ee-430d-b03a-e8584595d0f9"
      },
      "outputs": [
        {
          "output_type": "stream",
          "name": "stdout",
          "text": [
            "loading annotations into memory...\n",
            "Done (t=0.19s)\n",
            "creating index...\n",
            "index created!\n",
            "loading annotations into memory...\n",
            "Done (t=0.01s)\n",
            "creating index...\n",
            "index created!\n"
          ]
        }
      ],
      "source": [
        "generate_segmentation_masks(train_annotation, class_id, train_mask)\n",
        "generate_segmentation_masks(val_annotation, class_id, val_mask)"
      ]
    },
    {
      "cell_type": "markdown",
      "source": [
        "# **2 - Vision Transformer (ViT)**"
      ],
      "metadata": {
        "id": "iU1Igu4ziDLY"
      }
    },
    {
      "cell_type": "code",
      "execution_count": null,
      "metadata": {
        "id": "G4hCXN30ndks"
      },
      "outputs": [],
      "source": [
        "def patchify(images, n_patches):\n",
        "    n, c, h, w = images.shape\n",
        "\n",
        "    assert h == w, \"Patchify method is implemented for square images only\"\n",
        "\n",
        "    patches = torch.zeros(n, n_patches**2, h * w * c // n_patches**2)\n",
        "    patch_size = h // n_patches\n",
        "\n",
        "    for idx, image in enumerate(images):\n",
        "        for i in range(n_patches):\n",
        "            for j in range(n_patches):\n",
        "                patch = image[\n",
        "                    :,\n",
        "                    i * patch_size : (i + 1) * patch_size,\n",
        "                    j * patch_size : (j + 1) * patch_size,\n",
        "                ]\n",
        "                patches[idx, i * n_patches + j] = patch.flatten()\n",
        "    return patches"
      ]
    },
    {
      "cell_type": "code",
      "execution_count": null,
      "metadata": {
        "id": "IvFq1oQttVVA"
      },
      "outputs": [],
      "source": [
        "class MultiHeadAttention(nn.Module):\n",
        "    def __init__(self, d, n_heads=2):\n",
        "        super(MultiHeadAttention, self).__init__()\n",
        "        self.d = d\n",
        "        self.n_heads = n_heads\n",
        "\n",
        "        assert d % n_heads == 0, f\"Can't divide dimension {d} into {n_heads} heads\"\n",
        "\n",
        "        d_head = int(d / n_heads)\n",
        "        self.q_mappings = nn.ModuleList(\n",
        "            [nn.Linear(d_head, d_head) for _ in range(self.n_heads)]\n",
        "        )\n",
        "        self.k_mappings = nn.ModuleList(\n",
        "            [nn.Linear(d_head, d_head) for _ in range(self.n_heads)]\n",
        "        )\n",
        "        self.v_mappings = nn.ModuleList(\n",
        "            [nn.Linear(d_head, d_head) for _ in range(self.n_heads)]\n",
        "        )\n",
        "        self.d_head = d_head\n",
        "        self.softmax = nn.Softmax(dim=-1)\n",
        "\n",
        "    def forward(self, sequences):\n",
        "        # Sequences has shape (N, seq_length, token_dim)\n",
        "        # We go into shape    (N, seq_length, n_heads, token_dim / n_heads)\n",
        "        # And come back to    (N, seq_length, item_dim)  (through concatenation)\n",
        "        result = []\n",
        "        for sequence in sequences:\n",
        "            seq_result = []\n",
        "            for head in range(self.n_heads):\n",
        "                q_mapping = self.q_mappings[head]\n",
        "                k_mapping = self.k_mappings[head]\n",
        "                v_mapping = self.v_mappings[head]\n",
        "\n",
        "                seq = sequence[:, head * self.d_head : (head + 1) * self.d_head]\n",
        "                q, k, v = q_mapping(seq), k_mapping(seq), v_mapping(seq)\n",
        "\n",
        "                attention = self.softmax(q @ k.T / (self.d_head**0.5))\n",
        "                seq_result.append(attention @ v)\n",
        "            result.append(torch.hstack(seq_result))\n",
        "        return torch.cat([torch.unsqueeze(r, dim=0) for r in result])"
      ]
    },
    {
      "cell_type": "code",
      "execution_count": null,
      "metadata": {
        "id": "wCGWguKntY4F"
      },
      "outputs": [],
      "source": [
        "def get_positional_embeddings(sequence_length, d):\n",
        "    result = torch.ones(sequence_length, d)\n",
        "    for i in range(sequence_length):\n",
        "        for j in range(d):\n",
        "            result[i][j] = (\n",
        "                np.sin(i / (10000 ** (j / d)))\n",
        "                if j % 2 == 0\n",
        "                else np.cos(i / (10000 ** ((j - 1) / d)))\n",
        "            )\n",
        "    return result"
      ]
    },
    {
      "cell_type": "code",
      "source": [
        "class SegmentationHead(nn.Module):\n",
        "    def __init__(self, in_dim):\n",
        "        super(SegmentationHead, self).__init__()\n",
        "\n",
        "        self.conv = nn.Sequential(\n",
        "            nn.ConvTranspose2d(in_dim, 384, kernel_size=2, stride=2),\n",
        "            nn.ReLU(inplace=True),\n",
        "            nn.Conv2d(384, 384, kernel_size=3, padding=1),\n",
        "            nn.BatchNorm2d(384),\n",
        "            nn.ReLU(inplace=True),\n",
        "            nn.Conv2d(384, 384, kernel_size=3, padding=1),\n",
        "            nn.BatchNorm2d(384),\n",
        "            nn.ReLU(inplace=True),\n",
        "\n",
        "            nn.ConvTranspose2d(384, 192, kernel_size=2, stride=2),\n",
        "            nn.ReLU(inplace=True),\n",
        "            nn.Conv2d(192, 192, kernel_size=3, padding=1),\n",
        "            nn.BatchNorm2d(192),\n",
        "            nn.ReLU(inplace=True),\n",
        "            nn.Conv2d(192, 192, kernel_size=3, padding=1),\n",
        "            nn.BatchNorm2d(192),\n",
        "            nn.ReLU(inplace=True),\n",
        "\n",
        "            nn.ConvTranspose2d(192, 96, kernel_size=2, stride=2),\n",
        "            nn.ReLU(inplace=True),\n",
        "            nn.Conv2d(96, 96, kernel_size=3, padding=1),\n",
        "            nn.BatchNorm2d(96),\n",
        "            nn.ReLU(inplace=True),\n",
        "            nn.Conv2d(96, 96, kernel_size=3, padding=1),\n",
        "            nn.BatchNorm2d(96),\n",
        "            nn.ReLU(inplace=True),\n",
        "\n",
        "            nn.ConvTranspose2d(96, 48, kernel_size=2, stride=2),\n",
        "            nn.ReLU(inplace=True),\n",
        "            nn.Conv2d(48, 48, kernel_size=3, padding=1),\n",
        "            nn.BatchNorm2d(48),\n",
        "            nn.ReLU(inplace=True),\n",
        "            nn.Conv2d(48, 48, kernel_size=3, padding=1),\n",
        "            nn.BatchNorm2d(48),\n",
        "            nn.ReLU(inplace=True)\n",
        "        )\n",
        "\n",
        "        self.outconv = nn.Conv2d(48, 1, kernel_size=1)\n",
        "\n",
        "    def forward(self, x):\n",
        "        for conv in self.conv:\n",
        "          x = conv(x)\n",
        "        return self.outconv(x)"
      ],
      "metadata": {
        "id": "b-Afb1dZQn4_"
      },
      "execution_count": null,
      "outputs": []
    },
    {
      "cell_type": "code",
      "execution_count": null,
      "metadata": {
        "id": "JvqEqtxmb_jY"
      },
      "outputs": [],
      "source": [
        "class EncoderBlock(nn.Module):\n",
        "    def __init__(self, hidden_d, n_heads, mlp_ratio=4):\n",
        "        super(EncoderBlock, self).__init__()\n",
        "        self.hidden_d = hidden_d\n",
        "        self.n_heads = n_heads\n",
        "\n",
        "        self.norm1 = nn.LayerNorm(hidden_d)\n",
        "        self.mhsa = MultiHeadAttention(hidden_d, n_heads)\n",
        "        self.norm2 = nn.LayerNorm(hidden_d)\n",
        "        self.mlp = nn.Sequential(\n",
        "            nn.Linear(hidden_d, mlp_ratio * hidden_d),\n",
        "            nn.GELU(),\n",
        "            nn.Linear(mlp_ratio * hidden_d, hidden_d),\n",
        "        )\n",
        "\n",
        "    def forward(self, x):\n",
        "        out = x + self.mhsa(self.norm1(x))\n",
        "        out = out + self.mlp(self.norm2(out))\n",
        "        return out"
      ]
    },
    {
      "cell_type": "code",
      "execution_count": null,
      "metadata": {
        "id": "uPi3pI1-ZPil"
      },
      "outputs": [],
      "source": [
        "class VisionTransformer(nn.Module):\n",
        "    def __init__(self, chw=(3,256,256), n_patches=16, n_blocks=12, hidden_d=768, n_heads=12):\n",
        "        # Super constructor\n",
        "        super(VisionTransformer, self).__init__()\n",
        "\n",
        "        # Attributes\n",
        "        self.chw = chw  # ( C , H , W )\n",
        "        self.n_patches = n_patches\n",
        "        self.n_blocks = n_blocks\n",
        "        self.n_heads = n_heads\n",
        "        self.hidden_d = hidden_d\n",
        "\n",
        "        # Input and patches sizes\n",
        "        assert (\n",
        "            chw[1] % n_patches == 0\n",
        "        ), \"Input shape not entirely divisible by number of patches\"\n",
        "        assert (\n",
        "            chw[2] % n_patches == 0\n",
        "        ), \"Input shape not entirely divisible by number of patches\"\n",
        "        self.patch_size = (chw[1] / n_patches, chw[2] / n_patches)\n",
        "\n",
        "        # 1) Linear mapper\n",
        "        self.input_d = int(chw[0] * self.patch_size[0] * self.patch_size[1])\n",
        "        self.linear_mapper = nn.Linear(self.input_d, self.hidden_d)\n",
        "\n",
        "        # 2) Learnable classification token\n",
        "        self.class_token = nn.Parameter(torch.rand(1, self.hidden_d))\n",
        "\n",
        "        # 3) Positional embedding\n",
        "        self.register_buffer(\n",
        "            \"positional_embeddings\",\n",
        "            get_positional_embeddings(n_patches**2 + 1, hidden_d),\n",
        "            persistent=False,\n",
        "        )\n",
        "\n",
        "        # 4) Transformer encoder blocks\n",
        "        self.blocks = nn.ModuleList(\n",
        "            [EncoderBlock(hidden_d, n_heads) for _ in range(n_blocks)]\n",
        "        )\n",
        "\n",
        "        # 5) Skip connections\n",
        "        self.skip_connections = nn.ModuleList([\n",
        "            nn.Linear(hidden_d, hidden_d) for _ in range(n_blocks)\n",
        "        ])\n",
        "\n",
        "        # 6) Segmentation\n",
        "        self.segmentation_head = SegmentationHead(hidden_d+3)\n",
        "\n",
        "    def forward(self, images):\n",
        "        # Dividing images into patches\n",
        "        n, c, h, w = images.shape\n",
        "        patches = patchify(images, self.n_patches).to(self.positional_embeddings.device)\n",
        "\n",
        "        # Running linear layer tokenization\n",
        "        # Map the vector corresponding to each patch to the hidden size dimension\n",
        "        tokens = self.linear_mapper(patches)\n",
        "\n",
        "        # Adding classification token to the tokens\n",
        "        tokens = torch.cat((self.class_token.expand(n, 1, -1), tokens), dim=1)\n",
        "\n",
        "        # Adding positional embedding\n",
        "        out = tokens + self.positional_embeddings.repeat(n, 1, 1)\n",
        "\n",
        "        # Transformer Blocks with skip connections\n",
        "        # skip_connection_inputs = [out]\n",
        "        for i, block in enumerate(self.blocks):\n",
        "            out = block(out)\n",
        "            # Add skip connection from the i-th block\n",
        "            # out += self.skip_connections[i](skip_connection_inputs[i])\n",
        "            # skip_connection_inputs.append(out)\n",
        "\n",
        "        # Reshape and permute for segmentation head\n",
        "        out_reshaped = out.view(n, self.n_patches, self.n_patches, -1).permute(0, 3, 1, 2)\n",
        "\n",
        "        # Segmentation head\n",
        "        segmentation_output = self.segmentation_head(out_reshaped)\n",
        "\n",
        "        return segmentation_output"
      ]
    },
    {
      "cell_type": "code",
      "execution_count": null,
      "metadata": {
        "id": "LLMQR8jend3k"
      },
      "outputs": [],
      "source": [
        "class CustomDataset(Dataset):\n",
        "    def __init__(self, image_dir, mask_dir, transform=None):\n",
        "        self.image_dir = image_dir\n",
        "        self.mask_dir = mask_dir\n",
        "        self.transform = transform\n",
        "        self.images = os.listdir(image_dir)\n",
        "\n",
        "    def __len__(self):\n",
        "        return len(self.images)\n",
        "\n",
        "    def __getitem__(self, idx):\n",
        "        image_path = os.path.join(self.image_dir, self.images[idx])\n",
        "        mask_path = os.path.join(self.mask_dir, self.images[idx].replace('jpg', 'png'))\n",
        "\n",
        "\n",
        "        image = Image.open(image_path).convert('RGB')\n",
        "        mask = Image.open(mask_path)\n",
        "\n",
        "        if self.transform:\n",
        "            image = self.transform(image)\n",
        "            mask = self.transform(mask)\n",
        "\n",
        "        return image, mask"
      ]
    },
    {
      "cell_type": "code",
      "execution_count": null,
      "metadata": {
        "id": "c4JGiAynpFCi"
      },
      "outputs": [],
      "source": [
        "# Hyperparameters\n",
        "batch_size = 16\n",
        "learning_rate = 1e-4\n",
        "num_epochs = 10\n",
        "num_classes = 2\n",
        "\n",
        "\n",
        "# Define transformations\n",
        "transform = transforms.Compose([\n",
        "    transforms.Resize((256, 256)),\n",
        "    transforms.ToTensor()\n",
        "])"
      ]
    },
    {
      "cell_type": "code",
      "source": [
        "from sklearn.model_selection import train_test_split\n",
        "# Get a list of all image filenames in the training directory\n",
        "image_filenames = os.listdir(train_images)\n",
        "\n",
        "# Split the dataset into training and test sets\n",
        "train_filenames, test_filenames = train_test_split(image_filenames, test_size=0.2, random_state=42)\n",
        "\n",
        "# Create directories for the training and test sets\n",
        "test_images = '/content/test/images/'\n",
        "test_masks = '/content/test/masks/'\n",
        "\n",
        "os.makedirs(test_images, exist_ok=True)\n",
        "os.makedirs(test_masks, exist_ok=True)\n",
        "\n",
        "# Move images and masks to the corresponding directories\n",
        "for filename in test_filenames:\n",
        "    os.rename(os.path.join(train_images, filename), os.path.join(test_images, filename))\n",
        "    os.rename(os.path.join(train_mask, filename.replace('jpg', 'png')), os.path.join(test_masks, filename.replace('jpg', 'png')))"
      ],
      "metadata": {
        "id": "gouwtFSdiZqY"
      },
      "execution_count": null,
      "outputs": []
    },
    {
      "cell_type": "code",
      "execution_count": null,
      "metadata": {
        "id": "P3uIFqtxpM1X"
      },
      "outputs": [],
      "source": [
        "train_dataset = CustomDataset('/content/train/images', '/content/train/masks', transform=transform)\n",
        "train_dataloader = DataLoader(train_dataset, batch_size=batch_size, shuffle=True)\n",
        "\n",
        "val_dataset = CustomDataset('/content/validation/images', '/content/validation/masks', transform=transform)\n",
        "val_dataloader = DataLoader(val_dataset, batch_size=batch_size, shuffle=False)\n",
        "\n",
        "test_dataset = CustomDataset('/content/test/images', '/content/test/masks', transform=transform)\n",
        "test_dataloader = DataLoader(test_dataset, batch_size=batch_size, shuffle=False)"
      ]
    },
    {
      "cell_type": "code",
      "execution_count": null,
      "metadata": {
        "id": "E68Qh9ispZ_b"
      },
      "outputs": [],
      "source": [
        "# Initialize model, loss function, and optimizer\n",
        "device = 'cuda:0' if torch.cuda.is_available() else 'cpu'\n",
        "model = VisionTransformer().to(device)"
      ]
    },
    {
      "cell_type": "code",
      "source": [
        "def dice_loss(pred, target, smooth=1.):\n",
        "    pred = pred.contiguous()\n",
        "    target = target.contiguous()\n",
        "\n",
        "    intersection = (pred * target).sum(dim=2).sum(dim=2)\n",
        "\n",
        "    loss = (1 - ((2. * intersection + smooth) / (pred.sum(dim=2).sum(dim=2) + target.sum(dim=2).sum(dim=2) + smooth)))\n",
        "\n",
        "    return loss.mean()"
      ],
      "metadata": {
        "id": "K-kfMWNTvJa8"
      },
      "execution_count": null,
      "outputs": []
    },
    {
      "cell_type": "code",
      "source": [
        "def calc_loss(pred, target, metrics, bce_weight=0.5):\n",
        "    bce = nn.BCEWithLogitsLoss()(pred, target)\n",
        "\n",
        "    pred = torch.sigmoid(pred)\n",
        "    dice = dice_loss(pred, target)\n",
        "\n",
        "    loss = bce * bce_weight + dice * (1 - bce_weight)\n",
        "\n",
        "    metrics['bce'] += bce.data.cpu().numpy() * target.size(0)\n",
        "    metrics['dice'] += dice.data.cpu().numpy() * target.size(0)\n",
        "    metrics['loss'] += loss.data.cpu().numpy() * target.size(0)\n",
        "\n",
        "    return loss"
      ],
      "metadata": {
        "id": "jlZmPziXvK9U"
      },
      "execution_count": null,
      "outputs": []
    },
    {
      "cell_type": "code",
      "source": [
        "def train_unet(model, train_loader, val_loader, num_epochs, learning_rate, device, save_path=None, patience=5):\n",
        "    # criterion = nn.BCEWithLogitsLoss()  # Binary Cross-Entropy Loss\n",
        "    metrics = defaultdict(float)\n",
        "    optimizer = optim.AdamW(model.parameters(), lr=learning_rate)\n",
        "    scheduler = ReduceLROnPlateau(optimizer, 'min', patience=3, factor=0.5, verbose=True)\n",
        "\n",
        "\n",
        "    best_val_loss = float('inf')\n",
        "    best_model_state = None\n",
        "    early_stopping_counter = 0\n",
        "\n",
        "    model.to(device)\n",
        "\n",
        "    for epoch in range(num_epochs):\n",
        "        model.train()\n",
        "        train_loss = 0.0\n",
        "        for inputs, masks in tqdm(train_loader, desc=f\"Epoch {epoch + 1} (Train)\"):\n",
        "            inputs, masks = inputs.to(device), masks.to(device)\n",
        "            optimizer.zero_grad()\n",
        "            outputs = model(inputs)\n",
        "            # outputs = torch.sigmoid(outputs)\n",
        "            # loss = criterion(outputs, masks)\n",
        "            loss = calc_loss(outputs, masks, metrics)\n",
        "            loss.backward()\n",
        "            optimizer.step()\n",
        "            train_loss += loss.item()\n",
        "\n",
        "        model.eval()\n",
        "        val_loss = 0.0\n",
        "        with torch.no_grad():\n",
        "            for inputs, masks in tqdm(val_loader, desc=f\"Epoch {epoch + 1} (Val)\"):\n",
        "                inputs, masks = inputs.to(device), masks.to(device)\n",
        "                outputs = model(inputs)\n",
        "                # outputs = torch.sigmoid(outputs)\n",
        "                # loss = criterion(outputs, masks)\n",
        "                loss = calc_loss(outputs, masks, metrics)\n",
        "                val_loss += loss.item()\n",
        "\n",
        "        avg_train_loss = train_loss / len(train_loader)\n",
        "        avg_val_loss = val_loss / len(val_loader)\n",
        "        scheduler.step(avg_val_loss)\n",
        "\n",
        "        print(f\"Epoch {epoch + 1}/{num_epochs} - Train Loss: {avg_train_loss:.4f} - Validation Loss: {avg_val_loss:.4f}\")\n",
        "\n",
        "        if avg_val_loss < best_val_loss:\n",
        "            best_val_loss = avg_val_loss\n",
        "            best_model_state = model.state_dict()\n",
        "            if save_path:\n",
        "                torch.save(model.state_dict(), save_path)\n",
        "            early_stopping_counter = 0  # Reset the counter\n",
        "        else:\n",
        "            early_stopping_counter += 1\n",
        "\n",
        "        if early_stopping_counter >= patience:\n",
        "            print(f\"Early stopping after {epoch + 1} epochs without improvement.\")\n",
        "            break\n",
        "\n",
        "    if best_model_state:\n",
        "        model.load_state_dict(best_model_state)\n",
        "\n",
        "    return model"
      ],
      "metadata": {
        "id": "qEOVHT8YvRD6"
      },
      "execution_count": null,
      "outputs": []
    },
    {
      "cell_type": "code",
      "source": [
        "trained_model = train_unet(model, train_dataloader, val_dataloader, num_epochs, learning_rate, device, save_path='/content/best_model.pth', patience=3)"
      ],
      "metadata": {
        "colab": {
          "base_uri": "https://localhost:8080/"
        },
        "id": "sXoLsP93vaBk",
        "outputId": "f4a18cf1-3820-4df2-e2cd-272df17e905e"
      },
      "execution_count": null,
      "outputs": [
        {
          "output_type": "stream",
          "name": "stderr",
          "text": [
            "Epoch 1 (Train): 100%|██████████| 50/50 [02:14<00:00,  2.68s/it]\n",
            "Epoch 1 (Val): 100%|██████████| 8/8 [00:07<00:00,  1.01it/s]\n"
          ]
        },
        {
          "output_type": "stream",
          "name": "stdout",
          "text": [
            "Epoch 1/10 - Train Loss: 0.6896 - Validation Loss: 0.6280\n"
          ]
        },
        {
          "output_type": "stream",
          "name": "stderr",
          "text": [
            "Epoch 2 (Train): 100%|██████████| 50/50 [02:12<00:00,  2.64s/it]\n",
            "Epoch 2 (Val): 100%|██████████| 8/8 [00:08<00:00,  1.03s/it]\n"
          ]
        },
        {
          "output_type": "stream",
          "name": "stdout",
          "text": [
            "Epoch 2/10 - Train Loss: 0.6251 - Validation Loss: 0.6064\n"
          ]
        },
        {
          "output_type": "stream",
          "name": "stderr",
          "text": [
            "Epoch 3 (Train): 100%|██████████| 50/50 [02:12<00:00,  2.66s/it]\n",
            "Epoch 3 (Val): 100%|██████████| 8/8 [00:07<00:00,  1.08it/s]\n"
          ]
        },
        {
          "output_type": "stream",
          "name": "stdout",
          "text": [
            "Epoch 3/10 - Train Loss: 0.5955 - Validation Loss: 0.6707\n"
          ]
        },
        {
          "output_type": "stream",
          "name": "stderr",
          "text": [
            "Epoch 4 (Train): 100%|██████████| 50/50 [02:42<00:00,  3.25s/it]\n",
            "Epoch 4 (Val): 100%|██████████| 8/8 [00:07<00:00,  1.01it/s]\n"
          ]
        },
        {
          "output_type": "stream",
          "name": "stdout",
          "text": [
            "Epoch 4/10 - Train Loss: 0.5759 - Validation Loss: 0.6145\n"
          ]
        },
        {
          "output_type": "stream",
          "name": "stderr",
          "text": [
            "Epoch 5 (Train): 100%|██████████| 50/50 [02:11<00:00,  2.63s/it]\n",
            "Epoch 5 (Val): 100%|██████████| 8/8 [00:08<00:00,  1.00s/it]\n"
          ]
        },
        {
          "output_type": "stream",
          "name": "stdout",
          "text": [
            "Epoch 5/10 - Train Loss: 0.5626 - Validation Loss: 0.5813\n"
          ]
        },
        {
          "output_type": "stream",
          "name": "stderr",
          "text": [
            "Epoch 6 (Train): 100%|██████████| 50/50 [02:13<00:00,  2.67s/it]\n",
            "Epoch 6 (Val): 100%|██████████| 8/8 [00:07<00:00,  1.08it/s]\n"
          ]
        },
        {
          "output_type": "stream",
          "name": "stdout",
          "text": [
            "Epoch 6/10 - Train Loss: 0.5500 - Validation Loss: 0.5402\n"
          ]
        },
        {
          "output_type": "stream",
          "name": "stderr",
          "text": [
            "Epoch 7 (Train): 100%|██████████| 50/50 [02:13<00:00,  2.68s/it]\n",
            "Epoch 7 (Val): 100%|██████████| 8/8 [00:08<00:00,  1.03s/it]\n"
          ]
        },
        {
          "output_type": "stream",
          "name": "stdout",
          "text": [
            "Epoch 7/10 - Train Loss: 0.5368 - Validation Loss: 0.5490\n"
          ]
        },
        {
          "output_type": "stream",
          "name": "stderr",
          "text": [
            "Epoch 8 (Train): 100%|██████████| 50/50 [02:14<00:00,  2.68s/it]\n",
            "Epoch 8 (Val): 100%|██████████| 8/8 [00:08<00:00,  1.02s/it]\n"
          ]
        },
        {
          "output_type": "stream",
          "name": "stdout",
          "text": [
            "Epoch 8/10 - Train Loss: 0.5226 - Validation Loss: 0.5383\n"
          ]
        },
        {
          "output_type": "stream",
          "name": "stderr",
          "text": [
            "Epoch 9 (Train): 100%|██████████| 50/50 [02:14<00:00,  2.70s/it]\n",
            "Epoch 9 (Val): 100%|██████████| 8/8 [00:07<00:00,  1.01it/s]\n"
          ]
        },
        {
          "output_type": "stream",
          "name": "stdout",
          "text": [
            "Epoch 9/10 - Train Loss: 0.5147 - Validation Loss: 0.5770\n"
          ]
        },
        {
          "output_type": "stream",
          "name": "stderr",
          "text": [
            "Epoch 10 (Train): 100%|██████████| 50/50 [02:13<00:00,  2.67s/it]\n",
            "Epoch 10 (Val): 100%|██████████| 8/8 [00:08<00:00,  1.01s/it]"
          ]
        },
        {
          "output_type": "stream",
          "name": "stdout",
          "text": [
            "Epoch 10/10 - Train Loss: 0.5017 - Validation Loss: 0.5710\n"
          ]
        },
        {
          "output_type": "stream",
          "name": "stderr",
          "text": [
            "\n"
          ]
        }
      ]
    },
    {
      "cell_type": "code",
      "source": [
        "def calculate_iou(predicted_mask, true_mask):\n",
        "    intersection = np.logical_and(predicted_mask, true_mask)\n",
        "    union = np.logical_or(predicted_mask, true_mask)\n",
        "    iou = np.sum(intersection) / np.sum(union)\n",
        "    return iou\n",
        "\n",
        "def calculate_precision_recall(predicted_mask, true_mask):\n",
        "    true_positive = np.sum(np.logical_and(predicted_mask, true_mask))\n",
        "    false_positive = np.sum(np.logical_and(predicted_mask, ~true_mask))\n",
        "    false_negative = np.sum(np.logical_and(~predicted_mask, true_mask))\n",
        "\n",
        "    precision = true_positive / (true_positive + false_positive) if (true_positive + false_positive) > 0 else 0.0\n",
        "    recall = true_positive / (true_positive + false_negative) if (true_positive + false_negative) > 0 else 0.0\n",
        "\n",
        "    return precision, recall\n",
        "\n",
        "def evaluate_model(model, dataloader, device):\n",
        "    model.eval()\n",
        "    ious = []\n",
        "    precisions = []\n",
        "    recalls = []\n",
        "\n",
        "    with torch.no_grad():\n",
        "        for inputs, masks in tqdm(dataloader, desc=\"Evaluation\"):\n",
        "            inputs, masks = inputs.to(device), masks.to(device)\n",
        "            outputs = model(inputs)\n",
        "            predicted_masks = torch.sigmoid(outputs)\n",
        "\n",
        "            for predicted_mask, true_mask in zip(predicted_masks.cpu().numpy(), masks.cpu().numpy()):\n",
        "                predicted_mask_binary = (predicted_mask > 0.5).astype(np.uint8)\n",
        "                true_mask_binary = (true_mask > 0.5).astype(np.uint8)\n",
        "\n",
        "                iou = calculate_iou(predicted_mask_binary, true_mask_binary)\n",
        "                precision, recall = calculate_precision_recall(predicted_mask_binary, true_mask_binary)\n",
        "\n",
        "                ious.append(iou)\n",
        "                precisions.append(precision)\n",
        "                recalls.append(recall)\n",
        "\n",
        "    average_iou = np.mean(ious)\n",
        "    average_precision = np.mean(precisions)\n",
        "    average_recall = np.mean(recalls)\n",
        "\n",
        "    print(f\"Avg IoU: {average_iou:.4f}, Avg Precision: {average_precision:.4f}, Avg Recall: {average_recall:.4f}\")"
      ],
      "metadata": {
        "id": "9SxXxbxDiq4B"
      },
      "execution_count": null,
      "outputs": []
    },
    {
      "cell_type": "code",
      "source": [
        "evaluate_model(trained_model, test_dataloader, device)"
      ],
      "metadata": {
        "colab": {
          "base_uri": "https://localhost:8080/"
        },
        "id": "d4RV3WR5itDy",
        "outputId": "0f9612de-64ce-4956-9e00-274d8f6463df"
      },
      "execution_count": null,
      "outputs": [
        {
          "output_type": "stream",
          "name": "stderr",
          "text": [
            "Evaluation: 100%|██████████| 13/13 [00:12<00:00,  1.04it/s]"
          ]
        },
        {
          "output_type": "stream",
          "name": "stdout",
          "text": [
            "Avg IoU: 0.3090, Avg Precision: 0.2476, Avg Recall: 0.3775\n"
          ]
        },
        {
          "output_type": "stream",
          "name": "stderr",
          "text": [
            "\n"
          ]
        }
      ]
    },
    {
      "cell_type": "code",
      "execution_count": null,
      "metadata": {
        "id": "DOX5nqvNpiNq",
        "colab": {
          "base_uri": "https://localhost:8080/"
        },
        "outputId": "cd24cc37-c978-49ff-a5db-6f38263fc35b"
      },
      "outputs": [
        {
          "output_type": "stream",
          "name": "stdout",
          "text": [
            "--2024-01-06 16:41:26--  https://encrypted-tbn1.gstatic.com/licensed-image?q=tbn:ANd9GcSOD2yS2nqNxhV09Kk4fbOZw6sEuH1cxAZifXRS25GZccRScRYcJ9khSpuwW9uZmowN8qgc3zIL5_2PKb0\n",
            "Resolving encrypted-tbn1.gstatic.com (encrypted-tbn1.gstatic.com)... 142.251.172.138, 142.251.172.101, 142.251.172.100, ...\n",
            "Connecting to encrypted-tbn1.gstatic.com (encrypted-tbn1.gstatic.com)|142.251.172.138|:443... connected.\n",
            "HTTP request sent, awaiting response... 200 OK\n",
            "Length: 262790 (257K) [image/jpeg]\n",
            "Saving to: ‘horse.jpg’\n",
            "\n",
            "\rhorse.jpg             0%[                    ]       0  --.-KB/s               \rhorse.jpg           100%[===================>] 256.63K  --.-KB/s    in 0.002s  \n",
            "\n",
            "2024-01-06 16:41:26 (135 MB/s) - ‘horse.jpg’ saved [262790/262790]\n",
            "\n"
          ]
        }
      ],
      "source": [
        "!wget https://encrypted-tbn1.gstatic.com/licensed-image?q=tbn:ANd9GcSOD2yS2nqNxhV09Kk4fbOZw6sEuH1cxAZifXRS25GZccRScRYcJ9khSpuwW9uZmowN8qgc3zIL5_2PKb0 -O horse.jpg"
      ]
    },
    {
      "cell_type": "code",
      "execution_count": null,
      "metadata": {
        "id": "rxp1XAI3r_1O",
        "colab": {
          "base_uri": "https://localhost:8080/",
          "height": 205
        },
        "outputId": "e4425eb6-1cee-4ac3-a9b0-ebdef9390e1c"
      },
      "outputs": [
        {
          "output_type": "display_data",
          "data": {
            "text/plain": [
              "<Figure size 640x480 with 3 Axes>"
            ],
            "image/png": "[encoded data removed]"
          },
          "metadata": {}
        }
      ],
      "source": [
        "model.eval()\n",
        "\n",
        "original_image = Image.open('/content/horse.jpg')\n",
        "\n",
        "original_image = transform(original_image).unsqueeze(0)\n",
        "\n",
        "with torch.no_grad():\n",
        "    predicted_mask_original = model(original_image.to('cuda'))\n",
        "\n",
        "predicted_mask_sig = torch.sigmoid(predicted_mask_original)\n",
        "\n",
        "\n",
        "plt.subplot(1, 3, 1)\n",
        "plt.imshow(np.array(original_image.squeeze(0).permute(1, 2, 0)) )\n",
        "plt.title('Input Image')\n",
        "plt.axis('off')\n",
        "\n",
        "plt.subplot(1, 3, 2)\n",
        "plt.imshow(predicted_mask_sig.cpu().numpy().squeeze(), cmap='gray')\n",
        "plt.title('Binary Mask')\n",
        "plt.axis('off')\n",
        "\n",
        "predicted_mask_sig[predicted_mask_sig>0.5] = 1\n",
        "predicted_mask_sig[predicted_mask_sig<0.5] = 0\n",
        "\n",
        "plt.subplot(1, 3, 3)\n",
        "# plt.imshow(predicted_mask_sig.cpu().numpy().squeeze(), cmap='gray')\n",
        "plt.imshow(predicted_mask_sig.cpu().numpy().squeeze())\n",
        "plt.title('Binary Mask')\n",
        "plt.axis('off')\n",
        "\n",
        "plt.show()"
      ]
    },
    {
      "cell_type": "code",
      "source": [],
      "metadata": {
        "id": "fVH6LLUriuOa"
      },
      "execution_count": null,
      "outputs": []
    }
  ],
  "metadata": {
    "accelerator": "GPU",
    "colab": {
      "provenance": []
    },
    "kernelspec": {
      "display_name": "Python 3",
      "name": "python3"
    },
    "language_info": {
      "name": "python"
    }
  },
  "nbformat": 4,
  "nbformat_minor": 0
}