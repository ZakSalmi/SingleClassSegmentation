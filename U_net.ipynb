{
  "cells": [
    {
      "cell_type": "markdown",
      "metadata": {
        "id": "tMe9O0FhW6xg"
      },
      "source": [
        "# **1 - Coco Dataset**"
      ]
    },
    {
      "cell_type": "code",
      "execution_count": null,
      "metadata": {
        "id": "kr9FyDnxWhjd"
      },
      "outputs": [],
      "source": [
        "import os\n",
        "import cv2\n",
        "import json\n",
        "import math\n",
        "import pprint\n",
        "import requests\n",
        "import numpy as np\n",
        "from PIL import Image\n",
        "import matplotlib.pyplot as plt\n",
        "from pycocotools.coco import COCO\n",
        "from pycocotools import mask as maskUtils\n",
        "from sklearn.model_selection import train_test_split"
      ]
    },
    {
      "cell_type": "code",
      "execution_count": null,
      "metadata": {
        "id": "8cSSIj83XAK5",
        "colab": {
          "base_uri": "https://localhost:8080/"
        },
        "outputId": "3a969199-87bf-4e27-9119-100ac3bb4817"
      },
      "outputs": [
        {
          "output_type": "stream",
          "name": "stdout",
          "text": [
            "--2024-01-06 15:53:16--  http://images.cocodataset.org/annotations/annotations_trainval2017.zip\n",
            "Resolving images.cocodataset.org (images.cocodataset.org)... 16.182.37.113, 52.216.102.155, 52.216.48.177, ...\n",
            "Connecting to images.cocodataset.org (images.cocodataset.org)|16.182.37.113|:80... connected.\n",
            "HTTP request sent, awaiting response... 200 OK\n",
            "Length: 252907541 (241M) [application/zip]\n",
            "Saving to: ‘annotations_trainval2017.zip’\n",
            "\n",
            "annotations_trainva 100%[===================>] 241.19M  44.2MB/s    in 5.9s    \n",
            "\n",
            "2024-01-06 15:53:22 (41.1 MB/s) - ‘annotations_trainval2017.zip’ saved [252907541/252907541]\n",
            "\n",
            "Archive:  /content/annotations_trainval2017.zip\n",
            "  inflating: annotations/instances_train2017.json  \n",
            "  inflating: annotations/instances_val2017.json  \n",
            "  inflating: annotations/captions_train2017.json  \n",
            "  inflating: annotations/captions_val2017.json  \n",
            "  inflating: annotations/person_keypoints_train2017.json  \n",
            "  inflating: annotations/person_keypoints_val2017.json  \n"
          ]
        }
      ],
      "source": [
        "!wget http://images.cocodataset.org/annotations/annotations_trainval2017.zip\n",
        "\n",
        "!unzip /content/annotations_trainval2017.zip"
      ]
    },
    {
      "cell_type": "code",
      "execution_count": null,
      "metadata": {
        "id": "wiWRedY8XEK0"
      },
      "outputs": [],
      "source": [
        "train_ann = '/content/annotations/instances_train2017.json'\n",
        "val_ann = '/content/annotations/instances_val2017.json'\n",
        "\n",
        "!mkdir train\n",
        "!mkdir validation\n",
        "\n",
        "train_annotation = '/content/train/annotations/train2017.json'\n",
        "val_annotation = '/content/validation/annotations/val2017.json'\n",
        "\n",
        "train_images = '/content/train/images/'\n",
        "val_images = '/content/validation/images/'\n",
        "\n",
        "train_mask = '/content/train/masks/'\n",
        "val_mask = '/content/validation/masks/'"
      ]
    },
    {
      "cell_type": "code",
      "execution_count": null,
      "metadata": {
        "id": "xVciUf8CXxki"
      },
      "outputs": [],
      "source": [
        "def getCocoDataset(annotation_path, image_path, object_class, limit=None):\n",
        "  coco = COCO(annotation_path)\n",
        "\n",
        "  catIds = coco.getCatIds(catNms=[object_class])\n",
        "  imgIds = coco.getImgIds(catIds=catIds)\n",
        "  images = coco.loadImgs(imgIds)\n",
        "  os.makedirs(image_path, exist_ok=True)\n",
        "\n",
        "  for i, im in enumerate(images):\n",
        "    if i == limit:\n",
        "      break\n",
        "    img_data = requests.get(im['coco_url']).content\n",
        "    with open(image_path + im['file_name'], 'wb') as handler:\n",
        "        handler.write(img_data)\n",
        "  return catIds"
      ]
    },
    {
      "cell_type": "code",
      "execution_count": null,
      "metadata": {
        "id": "kL1uoJ0sYB0K",
        "colab": {
          "base_uri": "https://localhost:8080/"
        },
        "outputId": "e289260b-db63-474d-dc6e-f5f411c57efe"
      },
      "outputs": [
        {
          "metadata": {
            "tags": null
          },
          "name": "stdout",
          "output_type": "stream",
          "text": [
            "loading annotations into memory...\n",
            "Done (t=17.83s)\n",
            "creating index...\n",
            "index created!\n",
            "loading annotations into memory...\n",
            "Done (t=0.43s)\n",
            "creating index...\n",
            "index created!\n"
          ]
        },
        {
          "output_type": "execute_result",
          "data": {
            "text/plain": [
              "[19]"
            ]
          },
          "metadata": {},
          "execution_count": 5
        }
      ],
      "source": [
        "class_id = getCocoDataset(train_ann, train_images, 'horse', 1000)[0]\n",
        "getCocoDataset(val_ann, val_images, 'horse', 200)"
      ]
    },
    {
      "cell_type": "code",
      "execution_count": null,
      "metadata": {
        "id": "39-6-vOTYIDg"
      },
      "outputs": [],
      "source": [
        "def filterAnnotation(annotation_path, image_path, output_path):\n",
        "  coco = COCO(annotation_path)\n",
        "\n",
        "  images = os.listdir(image_path)\n",
        "\n",
        "  os.makedirs('/'.join(output_path.split('/')[:-1]), exist_ok=True)\n",
        "\n",
        "  filtered_annotations = {\n",
        "    \"images\": [],\n",
        "    \"annotations\": [],\n",
        "    \"categories\": coco.dataset[\"categories\"]\n",
        "  }\n",
        "\n",
        "  # Iterate through images and annotations\n",
        "  for image_id in coco.getImgIds():\n",
        "      image_info = coco.loadImgs([image_id])[0]\n",
        "      if image_info['file_name'] in images:\n",
        "          filtered_annotations[\"images\"].append(image_info)\n",
        "          annotations = coco.imgToAnns[image_id]\n",
        "          filtered_annotations[\"annotations\"].extend(annotations)\n",
        "\n",
        "  # Save the filtered annotations to a new JSON file\n",
        "  with open(output_path, 'w') as f:\n",
        "      json.dump(filtered_annotations, f)\n"
      ]
    },
    {
      "cell_type": "code",
      "execution_count": null,
      "metadata": {
        "id": "ycXCkku0ZDyc",
        "colab": {
          "base_uri": "https://localhost:8080/"
        },
        "outputId": "5f4b2591-367c-4bf9-f9cf-28dcbe30cba3"
      },
      "outputs": [
        {
          "output_type": "stream",
          "name": "stdout",
          "text": [
            "loading annotations into memory...\n",
            "Done (t=15.39s)\n",
            "creating index...\n",
            "index created!\n",
            "loading annotations into memory...\n",
            "Done (t=0.79s)\n",
            "creating index...\n",
            "index created!\n"
          ]
        }
      ],
      "source": [
        "filterAnnotation(train_ann, train_images, train_annotation)\n",
        "filterAnnotation(val_ann, val_images, val_annotation)"
      ]
    },
    {
      "cell_type": "markdown",
      "metadata": {
        "id": "iwBpYlo7Zrlp"
      },
      "source": [
        "# **2 - Generaing Masks**"
      ]
    },
    {
      "cell_type": "code",
      "execution_count": null,
      "metadata": {
        "id": "R3v9Kq64ZKNz"
      },
      "outputs": [],
      "source": [
        "def generate_segmentation_masks(annotation_path, class_id, output_dir):\n",
        "\n",
        "    coco = COCO(annotation_path)\n",
        "\n",
        "    os.makedirs(output_dir, exist_ok=True)\n",
        "\n",
        "    img_ids = coco.getImgIds()\n",
        "\n",
        "    min_height, min_width = math.inf, math.inf\n",
        "\n",
        "    for img_id in img_ids:\n",
        "        img_info = coco.loadImgs([img_id])[0]\n",
        "\n",
        "        ann_ids = coco.getAnnIds(imgIds=img_id)\n",
        "        annotations = coco.loadAnns(ann_ids)\n",
        "\n",
        "        # Initialize a blank mask\n",
        "        height = img_info['height']\n",
        "        width = img_info['width']\n",
        "        mask = np.zeros((height, width))\n",
        "\n",
        "        min_height = min(min_height, height)\n",
        "        min_width = min(min_width, width)\n",
        "\n",
        "        # Generate the mask by drawing polygons for each annotation\n",
        "        for annotation in annotations:\n",
        "\n",
        "            if annotation['category_id'] != class_id:\n",
        "              continue\n",
        "            rle = maskUtils.frPyObjects(annotation['segmentation'],\n",
        "                                        img_info['height'],\n",
        "                                        img_info['width'])\n",
        "            decoded_mask = maskUtils.decode(rle)\n",
        "            if len(decoded_mask.shape) > 2:\n",
        "              decoded_mask = decoded_mask[:, :, 0]\n",
        "            mask += decoded_mask\n",
        "\n",
        "        # Save the mask as an image\n",
        "        mask_filename = os.path.join(output_dir,\n",
        "                                     img_info['file_name'].replace('jpg', 'png'))\n",
        "        cv2.imwrite(mask_filename, mask.astype(np.uint8) * 255)\n",
        "\n",
        "    return min_height, min_width"
      ]
    },
    {
      "cell_type": "code",
      "execution_count": null,
      "metadata": {
        "id": "kfrhFxuYbsWx"
      },
      "outputs": [],
      "source": [
        "height1, width1 = generate_segmentation_masks(train_annotation, class_id, train_mask)\n",
        "height2, width2 = generate_segmentation_masks(val_annotation, class_id, val_mask)\n",
        "\n",
        "height = min(height1, height2)\n",
        "width = min(width1, width2)"
      ]
    },
    {
      "cell_type": "markdown",
      "metadata": {
        "id": "xfttYCa_fsbF"
      },
      "source": [
        "# **3 - U-Net**"
      ]
    },
    {
      "cell_type": "code",
      "execution_count": null,
      "metadata": {
        "id": "v-3d5NTtbxfL"
      },
      "outputs": [],
      "source": [
        "import torch\n",
        "from tqdm import tqdm\n",
        "from PIL import Image\n",
        "import torch.nn as nn\n",
        "import torch.optim as optim\n",
        "from torchvision import transforms\n",
        "from collections import defaultdict\n",
        "from torch.utils.data import DataLoader\n",
        "from torch.utils.data import Dataset\n",
        "import torchvision.models as models\n",
        "from torch.optim.lr_scheduler import ReduceLROnPlateau"
      ]
    },
    {
      "cell_type": "code",
      "execution_count": null,
      "metadata": {
        "id": "cl4Lvy2pf1b9"
      },
      "outputs": [],
      "source": [
        "class UNet(nn.Module):\n",
        "    def __init__(self, in_channels, out_channels):\n",
        "        super(UNet, self).__init__()\n",
        "\n",
        "        # Encoder\n",
        "        self.encoder = nn.Sequential(\n",
        "            nn.Conv2d(in_channels, 64, kernel_size=3, padding=1),\n",
        "            nn.BatchNorm2d(64),\n",
        "            nn.ReLU(inplace=True),\n",
        "            # nn.Dropout2d(0.2),\n",
        "            nn.Conv2d(64, 64, kernel_size=3, padding=1),\n",
        "            nn.BatchNorm2d(64),\n",
        "            nn.ReLU(inplace=True),\n",
        "            # nn.Dropout2d(0.2),\n",
        "            nn.MaxPool2d(kernel_size=2, stride=2),\n",
        "\n",
        "            nn.Conv2d(64, 128, kernel_size=3, padding=1),\n",
        "            nn.BatchNorm2d(128),\n",
        "            nn.ReLU(inplace=True),\n",
        "            # nn.Dropout2d(0.2),\n",
        "            nn.Conv2d(128, 128, kernel_size=3, padding=1),\n",
        "            nn.BatchNorm2d(128),\n",
        "            nn.ReLU(inplace=True),\n",
        "            # nn.Dropout2d(0.2),\n",
        "            nn.MaxPool2d(kernel_size=2, stride=2),\n",
        "\n",
        "            nn.Conv2d(128, 256, kernel_size=3, padding=1),\n",
        "            nn.BatchNorm2d(256),\n",
        "            nn.ReLU(inplace=True),\n",
        "            # nn.Dropout2d(0.2),\n",
        "            nn.Conv2d(256, 256, kernel_size=3, padding=1),\n",
        "            nn.BatchNorm2d(256),\n",
        "            nn.ReLU(inplace=True),\n",
        "            # nn.Dropout2d(0.2),\n",
        "            nn.MaxPool2d(kernel_size=2, stride=2),\n",
        "\n",
        "            nn.Conv2d(256, 512, kernel_size=3, padding=1),\n",
        "            nn.BatchNorm2d(512),\n",
        "            nn.ReLU(inplace=True),\n",
        "            # nn.Dropout2d(0.2),\n",
        "            nn.Conv2d(512, 512, kernel_size=3, padding=1),\n",
        "            nn.BatchNorm2d(512),\n",
        "            nn.ReLU(inplace=True),\n",
        "            # nn.Dropout2d(0.2),\n",
        "            nn.MaxPool2d(kernel_size=2, stride=2),\n",
        "\n",
        "            nn.Conv2d(512, 1024, kernel_size=3, padding=1),\n",
        "            nn.BatchNorm2d(1024),\n",
        "            nn.ReLU(inplace=True),\n",
        "            # nn.Dropout2d(0.2),\n",
        "            nn.Conv2d(1024, 1024, kernel_size=3, padding=1),\n",
        "            nn.BatchNorm2d(1024),\n",
        "            nn.ReLU(inplace=True),\n",
        "            # nn.Dropout2d(0.2),\n",
        "        )\n",
        "\n",
        "        # Decoder\n",
        "        self.decoder = nn.Sequential(\n",
        "            nn.ConvTranspose2d(1024, 512, kernel_size=2, stride=2),\n",
        "            nn.ReLU(inplace=True),\n",
        "            nn.Conv2d(1024, 512, kernel_size=3, padding=1),\n",
        "            nn.BatchNorm2d(512),\n",
        "            nn.ReLU(inplace=True),\n",
        "            nn.Conv2d(512, 512, kernel_size=3, padding=1),\n",
        "            nn.BatchNorm2d(512),\n",
        "            nn.ReLU(inplace=True),\n",
        "\n",
        "            nn.ConvTranspose2d(512, 256, kernel_size=2, stride=2),\n",
        "            nn.ReLU(inplace=True),\n",
        "            nn.Conv2d(512, 256, kernel_size=3, padding=1),\n",
        "            nn.BatchNorm2d(256),\n",
        "            nn.ReLU(inplace=True),\n",
        "            nn.Conv2d(256, 256, kernel_size=3, padding=1),\n",
        "            nn.BatchNorm2d(256),\n",
        "            nn.ReLU(inplace=True),\n",
        "\n",
        "            nn.ConvTranspose2d(256, 128, kernel_size=2, stride=2),\n",
        "            nn.ReLU(inplace=True),\n",
        "            nn.Conv2d(256, 128, kernel_size=3, padding=1),\n",
        "            nn.BatchNorm2d(128),\n",
        "            nn.ReLU(inplace=True),\n",
        "            nn.Conv2d(128, 128, kernel_size=3, padding=1),\n",
        "            nn.BatchNorm2d(128),\n",
        "            nn.ReLU(inplace=True),\n",
        "\n",
        "            nn.ConvTranspose2d(128, 64, kernel_size=2, stride=2),\n",
        "            nn.ReLU(inplace=True),\n",
        "            nn.Conv2d(128, 64, kernel_size=3, padding=1),\n",
        "            nn.BatchNorm2d(64),\n",
        "            nn.ReLU(inplace=True),\n",
        "            nn.Conv2d(64, 64, kernel_size=3, padding=1),\n",
        "            nn.BatchNorm2d(64),\n",
        "            nn.ReLU(inplace=True)\n",
        "        )\n",
        "\n",
        "        # Output layer\n",
        "        self.outconv = nn.Conv2d(64, out_channels, kernel_size=1)\n",
        "\n",
        "    def forward(self, x):\n",
        "        # Encoder\n",
        "        skip_connections = []\n",
        "        for i, layer in enumerate(self.encoder):\n",
        "            x = layer(x)\n",
        "            # print(x.shape)\n",
        "            if i%7 == 5:\n",
        "                skip_connections.append(x)\n",
        "\n",
        "        skip_connections.pop()\n",
        "        # print([x.shape for x in skip_connections])\n",
        "        # Decoder\n",
        "        for i in range(0, len(self.decoder), 8):\n",
        "            # print('Before Trans   ',x.shape)\n",
        "            x = self.decoder[i](x)\n",
        "            # print('After  Trans   ',x.shape)\n",
        "            x = torch.cat([x, skip_connections.pop()], dim=1)\n",
        "            # print('Cat            ',x.shape)\n",
        "            x = self.decoder[i+1](x)\n",
        "            # print('Relu           ',x.shape)\n",
        "            x = self.decoder[i+4](self.decoder[i+3](self.decoder[i+2](x)))\n",
        "            # print('First Conv     ',x.shape)\n",
        "            x = self.decoder[i+7](self.decoder[i+6](self.decoder[i+5](x)))\n",
        "            # print('Second Conv    ',x.shape)\n",
        "\n",
        "        # Output layer\n",
        "        x = self.outconv(x)\n",
        "        return x"
      ]
    },
    {
      "cell_type": "code",
      "execution_count": null,
      "metadata": {
        "id": "UtF33gnCf_A1"
      },
      "outputs": [],
      "source": [
        "class CustomDataset(Dataset):\n",
        "    def __init__(self, image_dir, mask_dir, transform=None):\n",
        "        self.image_dir = image_dir\n",
        "        self.mask_dir = mask_dir\n",
        "        self.transform = transform\n",
        "        self.images = os.listdir(image_dir)\n",
        "\n",
        "    def __len__(self):\n",
        "        return len(self.images)\n",
        "\n",
        "    def __getitem__(self, idx):\n",
        "        image_path = os.path.join(self.image_dir, self.images[idx])\n",
        "        mask_path = os.path.join(self.mask_dir, self.images[idx].replace('jpg', 'png'))\n",
        "\n",
        "\n",
        "        image = Image.open(image_path).convert('RGB')\n",
        "        mask = Image.open(mask_path)\n",
        "\n",
        "        if self.transform:\n",
        "            image = self.transform(image)\n",
        "            mask = self.transform(mask)\n",
        "\n",
        "        return image, mask"
      ]
    },
    {
      "cell_type": "code",
      "source": [
        "# Get a list of all image filenames in the training directory\n",
        "image_filenames = os.listdir(train_images)\n",
        "\n",
        "# Split the dataset into training and test sets\n",
        "train_filenames, test_filenames = train_test_split(image_filenames, test_size=0.2, random_state=42)\n",
        "\n",
        "# Create directories for the training and test sets\n",
        "test_images = '/content/test/images/'\n",
        "test_masks = '/content/test/masks/'\n",
        "\n",
        "os.makedirs(test_images, exist_ok=True)\n",
        "os.makedirs(test_masks, exist_ok=True)\n",
        "\n",
        "# Move images and masks to the corresponding directories\n",
        "for filename in test_filenames:\n",
        "    os.rename(os.path.join(train_images, filename), os.path.join(test_images, filename))\n",
        "    os.rename(os.path.join(train_mask, filename.replace('jpg', 'png')), os.path.join(test_masks, filename.replace('jpg', 'png')))"
      ],
      "metadata": {
        "id": "bbKgfkPJZlhq"
      },
      "execution_count": null,
      "outputs": []
    },
    {
      "cell_type": "code",
      "execution_count": null,
      "metadata": {
        "id": "bfItRwhIgDhd"
      },
      "outputs": [],
      "source": [
        "transform = transforms.Compose([transforms.Resize((224, 224)),\n",
        "                                transforms.ToTensor()])\n",
        "\n",
        "train_dataset = CustomDataset(train_images, train_mask, transform=transform)\n",
        "val_dataset = CustomDataset(val_images, val_mask, transform=transform)\n",
        "test_dataset = CustomDataset(test_images, test_masks, transform=transform)\n",
        "\n",
        "train_dataloader = DataLoader(train_dataset, batch_size=16, shuffle=True)\n",
        "val_dataloader = DataLoader(val_dataset, batch_size=8, shuffle=False)\n",
        "test_dataloader = DataLoader(test_dataset, batch_size=8, shuffle=False)"
      ]
    },
    {
      "cell_type": "code",
      "execution_count": null,
      "metadata": {
        "id": "Spv9w3OKhgXr"
      },
      "outputs": [],
      "source": [
        "device = 'cuda:0' if torch.cuda.is_available() else 'cpu'\n",
        "model = UNet(in_channels=3, out_channels=1).to(device)\n",
        "\n",
        "num_epochs = 10\n",
        "learning_rate = 1e-4"
      ]
    },
    {
      "cell_type": "code",
      "source": [
        "def dice_loss(pred, target, smooth=1.):\n",
        "    pred = pred.contiguous()\n",
        "    target = target.contiguous()\n",
        "\n",
        "    intersection = (pred * target).sum(dim=2).sum(dim=2)\n",
        "\n",
        "    loss = (1 - ((2. * intersection + smooth) / (pred.sum(dim=2).sum(dim=2) + target.sum(dim=2).sum(dim=2) + smooth)))\n",
        "\n",
        "    return loss.mean()"
      ],
      "metadata": {
        "id": "3gyQJwPHXbB9"
      },
      "execution_count": null,
      "outputs": []
    },
    {
      "cell_type": "code",
      "source": [
        "def calc_loss(pred, target, metrics, bce_weight=0.5):\n",
        "    bce = nn.BCEWithLogitsLoss()(pred, target)\n",
        "\n",
        "    pred = torch.sigmoid(pred)\n",
        "    dice = dice_loss(pred, target)\n",
        "\n",
        "    loss = bce * bce_weight + dice * (1 - bce_weight)\n",
        "\n",
        "    metrics['bce'] += bce.data.cpu().numpy() * target.size(0)\n",
        "    metrics['dice'] += dice.data.cpu().numpy() * target.size(0)\n",
        "    metrics['loss'] += loss.data.cpu().numpy() * target.size(0)\n",
        "\n",
        "    return loss"
      ],
      "metadata": {
        "id": "FO_5RXq0XDY2"
      },
      "execution_count": null,
      "outputs": []
    },
    {
      "cell_type": "code",
      "execution_count": null,
      "metadata": {
        "id": "T4PgBZy7g4Q3"
      },
      "outputs": [],
      "source": [
        "def train_unet(model, train_loader, val_loader, num_epochs, learning_rate, device, save_path=None, patience=5):\n",
        "    # criterion = nn.BCEWithLogitsLoss()  # Binary Cross-Entropy Loss\n",
        "    metrics = defaultdict(float)\n",
        "    optimizer = optim.Adam(model.parameters(), lr=learning_rate)\n",
        "    scheduler = ReduceLROnPlateau(optimizer, 'min', patience=3, factor=0.5, verbose=True)\n",
        "\n",
        "\n",
        "    best_val_loss = float('inf')\n",
        "    best_model_state = None\n",
        "    early_stopping_counter = 0\n",
        "\n",
        "    model.to(device)\n",
        "\n",
        "    for epoch in range(num_epochs):\n",
        "        model.train()\n",
        "        train_loss = 0.0\n",
        "        for inputs, masks in tqdm(train_loader, desc=f\"Epoch {epoch + 1} (Train)\"):\n",
        "            inputs, masks = inputs.to(device), masks.to(device)\n",
        "            optimizer.zero_grad()\n",
        "            outputs = model(inputs)\n",
        "            # outputs = torch.sigmoid(outputs)\n",
        "            # loss = criterion(outputs, masks)\n",
        "            loss = calc_loss(outputs, masks, metrics)\n",
        "            loss.backward()\n",
        "            optimizer.step()\n",
        "            train_loss += loss.item()\n",
        "\n",
        "        model.eval()\n",
        "        val_loss = 0.0\n",
        "        with torch.no_grad():\n",
        "            for inputs, masks in tqdm(val_loader, desc=f\"Epoch {epoch + 1} (Val)\"):\n",
        "                inputs, masks = inputs.to(device), masks.to(device)\n",
        "                outputs = model(inputs)\n",
        "                # outputs = torch.sigmoid(outputs)\n",
        "                # loss = criterion(outputs, masks)\n",
        "                loss = calc_loss(outputs, masks, metrics)\n",
        "                val_loss += loss.item()\n",
        "\n",
        "        avg_train_loss = train_loss / len(train_loader)\n",
        "        avg_val_loss = val_loss / len(val_loader)\n",
        "        scheduler.step(avg_val_loss)\n",
        "\n",
        "        print(f\"Epoch {epoch + 1}/{num_epochs} - Train Loss: {avg_train_loss:.4f} - Validation Loss: {avg_val_loss:.4f}\")\n",
        "\n",
        "        if avg_val_loss < best_val_loss:\n",
        "            best_val_loss = avg_val_loss\n",
        "            best_model_state = model.state_dict()\n",
        "            if save_path:\n",
        "                torch.save(model.state_dict(), save_path)\n",
        "            early_stopping_counter = 0  # Reset the counter\n",
        "        else:\n",
        "            early_stopping_counter += 1\n",
        "\n",
        "        if early_stopping_counter >= patience:\n",
        "            print(f\"Early stopping after {epoch + 1} epochs without improvement.\")\n",
        "            break\n",
        "\n",
        "    if best_model_state:\n",
        "        model.load_state_dict(best_model_state)\n",
        "\n",
        "    return model"
      ]
    },
    {
      "cell_type": "code",
      "execution_count": null,
      "metadata": {
        "id": "lc4zzk3bhVsU",
        "colab": {
          "base_uri": "https://localhost:8080/"
        },
        "outputId": "1140ecd4-85b4-43b7-a3c6-bb5c8b3d3672"
      },
      "outputs": [
        {
          "metadata": {
            "tags": null
          },
          "name": "stderr",
          "output_type": "stream",
          "text": [
            "Epoch 1 (Train): 100%|██████████| 50/50 [00:38<00:00,  1.31it/s]\n",
            "Epoch 1 (Val): 100%|██████████| 16/16 [00:03<00:00,  5.26it/s]\n"
          ]
        },
        {
          "metadata": {
            "tags": null
          },
          "name": "stdout",
          "output_type": "stream",
          "text": [
            "Epoch 1/10 - Train Loss: 0.6565 - Validation Loss: 0.9457\n"
          ]
        },
        {
          "metadata": {
            "tags": null
          },
          "name": "stderr",
          "output_type": "stream",
          "text": [
            "Epoch 2 (Train): 100%|██████████| 50/50 [00:36<00:00,  1.35it/s]\n",
            "Epoch 2 (Val): 100%|██████████| 16/16 [00:03<00:00,  5.19it/s]\n"
          ]
        },
        {
          "metadata": {
            "tags": null
          },
          "name": "stdout",
          "output_type": "stream",
          "text": [
            "Epoch 2/10 - Train Loss: 0.5721 - Validation Loss: 0.5495\n"
          ]
        },
        {
          "metadata": {
            "tags": null
          },
          "name": "stderr",
          "output_type": "stream",
          "text": [
            "Epoch 3 (Train): 100%|██████████| 50/50 [00:37<00:00,  1.34it/s]\n",
            "Epoch 3 (Val): 100%|██████████| 16/16 [00:03<00:00,  4.78it/s]\n"
          ]
        },
        {
          "metadata": {
            "tags": null
          },
          "name": "stdout",
          "output_type": "stream",
          "text": [
            "Epoch 3/10 - Train Loss: 0.5342 - Validation Loss: 0.5614\n"
          ]
        },
        {
          "metadata": {
            "tags": null
          },
          "name": "stderr",
          "output_type": "stream",
          "text": [
            "Epoch 4 (Train): 100%|██████████| 50/50 [00:37<00:00,  1.32it/s]\n",
            "Epoch 4 (Val): 100%|██████████| 16/16 [00:03<00:00,  5.05it/s]\n"
          ]
        },
        {
          "metadata": {
            "tags": null
          },
          "name": "stdout",
          "output_type": "stream",
          "text": [
            "Epoch 4/10 - Train Loss: 0.5032 - Validation Loss: 0.6652\n"
          ]
        },
        {
          "output_type": "stream",
          "name": "stderr",
          "text": [
            "Epoch 5 (Train): 100%|██████████| 50/50 [00:37<00:00,  1.32it/s]\n",
            "Epoch 5 (Val): 100%|██████████| 16/16 [00:03<00:00,  4.60it/s]"
          ]
        },
        {
          "output_type": "stream",
          "name": "stdout",
          "text": [
            "Epoch 5/10 - Train Loss: 0.4882 - Validation Loss: 0.5746\n",
            "Early stopping after 5 epochs without improvement.\n"
          ]
        },
        {
          "output_type": "stream",
          "name": "stderr",
          "text": [
            "\n"
          ]
        }
      ],
      "source": [
        "trained_model = train_unet(model, train_dataloader, val_dataloader, num_epochs, learning_rate, device, save_path='/content/best_model.pth', patience=3)"
      ]
    },
    {
      "cell_type": "code",
      "execution_count": null,
      "metadata": {
        "id": "GUaLq1BvspIX"
      },
      "outputs": [],
      "source": [
        "def calculate_iou(predicted_mask, true_mask):\n",
        "    intersection = np.logical_and(predicted_mask, true_mask)\n",
        "    union = np.logical_or(predicted_mask, true_mask)\n",
        "    iou = np.sum(intersection) / np.sum(union)\n",
        "    return iou\n",
        "\n",
        "def calculate_precision_recall(predicted_mask, true_mask):\n",
        "    true_positive = np.sum(np.logical_and(predicted_mask, true_mask))\n",
        "    false_positive = np.sum(np.logical_and(predicted_mask, ~true_mask))\n",
        "    false_negative = np.sum(np.logical_and(~predicted_mask, true_mask))\n",
        "\n",
        "    precision = true_positive / (true_positive + false_positive) if (true_positive + false_positive) > 0 else 0.0\n",
        "    recall = true_positive / (true_positive + false_negative) if (true_positive + false_negative) > 0 else 0.0\n",
        "\n",
        "    return precision, recall\n",
        "\n",
        "def evaluate_model(model, dataloader, device):\n",
        "    model.eval()\n",
        "    ious = []\n",
        "    precisions = []\n",
        "    recalls = []\n",
        "\n",
        "    with torch.no_grad():\n",
        "        for inputs, masks in tqdm(dataloader, desc=\"Evaluation\"):\n",
        "            inputs, masks = inputs.to(device), masks.to(device)\n",
        "            outputs = model(inputs)\n",
        "            predicted_masks = torch.sigmoid(outputs)\n",
        "\n",
        "            for predicted_mask, true_mask in zip(predicted_masks.cpu().numpy(), masks.cpu().numpy()):\n",
        "                predicted_mask_binary = (predicted_mask > 0.5).astype(np.uint8)\n",
        "                true_mask_binary = (true_mask > 0.5).astype(np.uint8)\n",
        "\n",
        "                iou = calculate_iou(predicted_mask_binary, true_mask_binary)\n",
        "                precision, recall = calculate_precision_recall(predicted_mask_binary, true_mask_binary)\n",
        "\n",
        "                ious.append(iou)\n",
        "                precisions.append(precision)\n",
        "                recalls.append(recall)\n",
        "\n",
        "    average_iou = np.mean(ious)\n",
        "    average_precision = np.mean(precisions)\n",
        "    average_recall = np.mean(recalls)\n",
        "\n",
        "    print(f\"Avg IoU: {average_iou:.4f}, Avg Precision: {average_precision:.4f}, Avg Recall: {average_recall:.4f}\")"
      ]
    },
    {
      "cell_type": "code",
      "source": [
        "evaluate_model(trained_model, test_dataloader, device)"
      ],
      "metadata": {
        "colab": {
          "base_uri": "https://localhost:8080/"
        },
        "id": "NoDfpfNualH4",
        "outputId": "05322588-5a49-427b-80e3-beb0751e2736"
      },
      "execution_count": null,
      "outputs": [
        {
          "output_type": "stream",
          "name": "stderr",
          "text": [
            "Evaluation: 100%|██████████| 25/25 [00:04<00:00,  5.01it/s]"
          ]
        },
        {
          "output_type": "stream",
          "name": "stdout",
          "text": [
            "Avg IoU: 0.3295, Avg Precision: 0.2367, Avg Recall: 0.4591\n"
          ]
        },
        {
          "output_type": "stream",
          "name": "stderr",
          "text": [
            "\n"
          ]
        }
      ]
    },
    {
      "cell_type": "code",
      "source": [
        "!wget https://encrypted-tbn1.gstatic.com/licensed-image?q=tbn:ANd9GcSOD2yS2nqNxhV09Kk4fbOZw6sEuH1cxAZifXRS25GZccRScRYcJ9khSpuwW9uZmowN8qgc3zIL5_2PKb0 -O horse.jpg"
      ],
      "metadata": {
        "colab": {
          "base_uri": "https://localhost:8080/"
        },
        "id": "luoKrcJbaih7",
        "outputId": "f3b7f713-3d18-4e28-96e1-c187e069d726"
      },
      "execution_count": null,
      "outputs": [
        {
          "output_type": "stream",
          "name": "stdout",
          "text": [
            "--2024-01-06 16:05:52--  https://encrypted-tbn1.gstatic.com/licensed-image?q=tbn:ANd9GcSOD2yS2nqNxhV09Kk4fbOZw6sEuH1cxAZifXRS25GZccRScRYcJ9khSpuwW9uZmowN8qgc3zIL5_2PKb0\n",
            "Resolving encrypted-tbn1.gstatic.com (encrypted-tbn1.gstatic.com)... 173.194.202.138, 173.194.202.100, 173.194.202.101, ...\n",
            "Connecting to encrypted-tbn1.gstatic.com (encrypted-tbn1.gstatic.com)|173.194.202.138|:443... connected.\n",
            "HTTP request sent, awaiting response... 200 OK\n",
            "Length: 262790 (257K) [image/jpeg]\n",
            "Saving to: ‘horse.jpg’\n",
            "\n",
            "\rhorse.jpg             0%[                    ]       0  --.-KB/s               \rhorse.jpg           100%[===================>] 256.63K  --.-KB/s    in 0.001s  \n",
            "\n",
            "2024-01-06 16:05:52 (168 MB/s) - ‘horse.jpg’ saved [262790/262790]\n",
            "\n"
          ]
        }
      ]
    },
    {
      "cell_type": "code",
      "execution_count": null,
      "metadata": {
        "id": "kWdhBlvoht9F",
        "colab": {
          "base_uri": "https://localhost:8080/",
          "height": 205
        },
        "outputId": "b3701720-d22f-40c5-978c-1a8075fba3da"
      },
      "outputs": [
        {
          "output_type": "display_data",
          "data": {
            "text/plain": [
              "<Figure size 640x480 with 3 Axes>"
            ],
            "image/png": "[encoded data removed]"
          },
          "metadata": {}
        }
      ],
      "source": [
        "trained_model.eval()\n",
        "\n",
        "original_image = Image.open('/content/horse.jpg')\n",
        "\n",
        "original_image = transform(original_image).unsqueeze(0)\n",
        "\n",
        "with torch.no_grad():\n",
        "    predicted_mask_original = model(original_image.to('cuda'))\n",
        "\n",
        "predicted_mask_sig = torch.sigmoid(predicted_mask_original)\n",
        "\n",
        "\n",
        "plt.subplot(1, 3, 1)\n",
        "plt.imshow(np.array(original_image.squeeze(0).permute(1, 2, 0)) )\n",
        "plt.title('Input Image')\n",
        "plt.axis('off')\n",
        "\n",
        "plt.subplot(1, 3, 2)\n",
        "plt.imshow(predicted_mask_sig.cpu().numpy().squeeze(), cmap='gray')\n",
        "plt.title('Binary Mask')\n",
        "plt.axis('off')\n",
        "\n",
        "predicted_mask_sig[predicted_mask_sig>0.5] = 1\n",
        "predicted_mask_sig[predicted_mask_sig<0.5] = 0\n",
        "\n",
        "plt.subplot(1, 3, 3)\n",
        "# plt.imshow(predicted_mask_sig.cpu().numpy().squeeze(), cmap='gray')\n",
        "plt.imshow(predicted_mask_sig.cpu().numpy().squeeze())\n",
        "plt.title('Binary Mask')\n",
        "plt.axis('off')\n",
        "\n",
        "plt.show()"
      ]
    }
  ],
  "metadata": {
    "accelerator": "GPU",
    "colab": {
      "provenance": [],
      "gpuType": "T4"
    },
    "kernelspec": {
      "display_name": "Python 3",
      "name": "python3"
    },
    "language_info": {
      "name": "python"
    }
  },
  "nbformat": 4,
  "nbformat_minor": 0
}